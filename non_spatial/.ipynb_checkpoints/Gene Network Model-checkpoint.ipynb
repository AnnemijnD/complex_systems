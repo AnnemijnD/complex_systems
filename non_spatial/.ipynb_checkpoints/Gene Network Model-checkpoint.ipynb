{
 "cells": [
  {
   "cell_type": "code",
   "execution_count": 56,
   "metadata": {},
   "outputs": [],
   "source": [
    "import numpy as np\n",
    "import matplotlib.pyplot as plt"
   ]
  },
  {
   "cell_type": "code",
   "execution_count": null,
   "metadata": {},
   "outputs": [],
   "source": []
  },
  {
   "cell_type": "code",
   "execution_count": null,
   "metadata": {},
   "outputs": [],
   "source": []
  },
  {
   "cell_type": "code",
   "execution_count": 47,
   "metadata": {},
   "outputs": [],
   "source": [
    "#number of cells in organism\n",
    "C = 9\n",
    "\n",
    "#genes\n",
    "G = 3\n",
    "#hormones\n",
    "H = 2\n",
    "\n",
    "N = G + H\n",
    "\n",
    "#interactions between G genes \n",
    "A = np.ones((G, C))\n",
    "\n",
    "for i in range(G):\n",
    "    for j in range(C):\n",
    "        A[i,j] = np.random.uniform(-1,1)\n",
    "        \n",
    "\n",
    "#interactions between genes and hormones\n",
    "B = np.ones((H,G))\n",
    "\n",
    "for i in range(H):\n",
    "    for j in range(C):\n",
    "        B[i,j] = np.random.uniform(-1,1)"
   ]
  },
  {
   "cell_type": "code",
   "execution_count": 58,
   "metadata": {},
   "outputs": [
    {
     "data": {
      "text/plain": [
       "(18, 27)"
      ]
     },
     "execution_count": 58,
     "metadata": {},
     "output_type": "execute_result"
    }
   ],
   "source": [
    "#matrix containing all genes and hormones links\n",
    "np.zeros((H*C, G*C)).shape\n",
    "\n",
    "\n",
    "# print(A)\n",
    "\n",
    "# A[:,1]"
   ]
  },
  {
   "cell_type": "code",
   "execution_count": 54,
   "metadata": {},
   "outputs": [
    {
     "ename": "IndexError",
     "evalue": "index 2 is out of bounds for axis 0 with size 2",
     "output_type": "error",
     "traceback": [
      "\u001b[0;31m---------------------------------------------------------------------------\u001b[0m",
      "\u001b[0;31mIndexError\u001b[0m                                Traceback (most recent call last)",
      "\u001b[0;32m<ipython-input-54-e9e0d0b1fbf1>\u001b[0m in \u001b[0;36m<module>\u001b[0;34m\u001b[0m\n\u001b[1;32m     12\u001b[0m     \u001b[0;32mfor\u001b[0m \u001b[0mk\u001b[0m \u001b[0;32min\u001b[0m \u001b[0mrange\u001b[0m\u001b[0;34m(\u001b[0m\u001b[0mG\u001b[0m\u001b[0;34m)\u001b[0m\u001b[0;34m:\u001b[0m\u001b[0;34m\u001b[0m\u001b[0;34m\u001b[0m\u001b[0m\n\u001b[1;32m     13\u001b[0m         \u001b[0;31m#firstly compute Hij\u001b[0m\u001b[0;34m\u001b[0m\u001b[0;34m\u001b[0m\u001b[0;34m\u001b[0m\u001b[0m\n\u001b[0;32m---> 14\u001b[0;31m         \u001b[0;32mif\u001b[0m \u001b[0mStateH\u001b[0m\u001b[0;34m[\u001b[0m\u001b[0mk\u001b[0m\u001b[0;34m,\u001b[0m\u001b[0mc\u001b[0m\u001b[0;34m+\u001b[0m\u001b[0;36m1\u001b[0m\u001b[0;34m]\u001b[0m \u001b[0;34m==\u001b[0m \u001b[0;36m1\u001b[0m \u001b[0;32mor\u001b[0m \u001b[0mStateH\u001b[0m\u001b[0;34m[\u001b[0m\u001b[0mk\u001b[0m\u001b[0;34m,\u001b[0m\u001b[0mc\u001b[0m\u001b[0;34m-\u001b[0m\u001b[0;36m1\u001b[0m\u001b[0;34m]\u001b[0m \u001b[0;34m==\u001b[0m \u001b[0;36m1\u001b[0m\u001b[0;34m:\u001b[0m\u001b[0;34m\u001b[0m\u001b[0;34m\u001b[0m\u001b[0m\n\u001b[0m\u001b[1;32m     15\u001b[0m             \u001b[0mHij\u001b[0m \u001b[0;34m=\u001b[0m \u001b[0mnp\u001b[0m\u001b[0;34m.\u001b[0m\u001b[0msum\u001b[0m\u001b[0;34m(\u001b[0m\u001b[0mB\u001b[0m\u001b[0;34m[\u001b[0m\u001b[0;34m:\u001b[0m\u001b[0;34m,\u001b[0m\u001b[0mc\u001b[0m\u001b[0;34m]\u001b[0m\u001b[0;34m)\u001b[0m\u001b[0;34m\u001b[0m\u001b[0;34m\u001b[0m\u001b[0m\n\u001b[1;32m     16\u001b[0m         \u001b[0;32melse\u001b[0m\u001b[0;34m:\u001b[0m\u001b[0;34m\u001b[0m\u001b[0;34m\u001b[0m\u001b[0m\n",
      "\u001b[0;31mIndexError\u001b[0m: index 2 is out of bounds for axis 0 with size 2"
     ]
    }
   ],
   "source": [
    "#initial state\n",
    "StateG = np.zeros((G, C))\n",
    "StateG[0,0] = 1\n",
    "StateH = np.zeros((H,C))\n",
    "\n",
    "NewStateG = StateG\n",
    "NewStateH = StateH\n",
    "#single cycle\n",
    "#loop through all cells\n",
    "\n",
    "Hmatrix = StateH\n",
    "for c in range(1,C-1):\n",
    "    \n",
    "    #loop through all hormones in cell\n",
    "    for j in range(H):\n",
    "        #firstly compute Hij\n",
    "        if StateH[j,c+1] == 1 or StateH[j,c-1] == 1:\n",
    "            #Hij(t)\n",
    "            Hmatrix[c,j] = np.sum(B[:,c])    \n",
    "        else:\n",
    "            #Hij(t)\n",
    "            Hmatrix[c,j] = 0\n",
    "            \n",
    "    #loop through all genes in cell\n",
    "    for k in range(G):\n",
    "        gij = StateG[k,c]\n",
    "        Gij = np.sum(A[:,c])*gij\n",
    "        if Gij > 0:\n",
    "            NewStateH[k,c] = 1\n",
    "            \n",
    "            \n",
    "        #Hmatrix size is not in accordance with Gij, so \n",
    "#         !!!!!!!!!!!!!!\n",
    "        if Gij + Hmatrix > 0:\n",
    "            NewStateG[k,c] = 1\n",
    "        \n"
   ]
  },
  {
   "cell_type": "code",
   "execution_count": null,
   "metadata": {},
   "outputs": [],
   "source": [
    "#gene network model\n",
    "def pattern(network):\n",
    "    "
   ]
  },
  {
   "cell_type": "code",
   "execution_count": 34,
   "metadata": {},
   "outputs": [
    {
     "ename": "SyntaxError",
     "evalue": "unexpected EOF while parsing (<ipython-input-34-7bfae00753d4>, line 1)",
     "output_type": "error",
     "traceback": [
      "\u001b[0;36m  File \u001b[0;32m\"<ipython-input-34-7bfae00753d4>\"\u001b[0;36m, line \u001b[0;32m1\u001b[0m\n\u001b[0;31m    for i in range(20):\u001b[0m\n\u001b[0m                       ^\u001b[0m\n\u001b[0;31mSyntaxError\u001b[0m\u001b[0;31m:\u001b[0m unexpected EOF while parsing\n"
     ]
    }
   ],
   "source": [
    "\n",
    "\n",
    "for i in range(20):\n",
    "    pattern(organism)"
   ]
  },
  {
   "cell_type": "code",
   "execution_count": null,
   "metadata": {},
   "outputs": [],
   "source": [
    "def cycle(generation):\n",
    "    \n",
    "    for organism in generation:\n",
    "        \n",
    "        if np.random.uniform(0,3) < 1.:\n",
    "#             addition of new links\n",
    "        if np.random.uniform(0,3) < 1.:\n",
    "#             remove previously present links\n",
    "        if np.random.uniform(0,3) < 1.:\n",
    "#             randomize links weights\n",
    "\n",
    "        developmental pattern is simulated\n",
    "    \n",
    "        fitness computed of this pattern\n",
    "        \n",
    "        if nt >= nt-1:\n",
    "            replace organism"
   ]
  }
 ],
 "metadata": {
  "kernelspec": {
   "display_name": "Python 3",
   "language": "python",
   "name": "python3"
  },
  "language_info": {
   "codemirror_mode": {
    "name": "ipython",
    "version": 3
   },
   "file_extension": ".py",
   "mimetype": "text/x-python",
   "name": "python",
   "nbconvert_exporter": "python",
   "pygments_lexer": "ipython3",
   "version": "3.7.3"
  }
 },
 "nbformat": 4,
 "nbformat_minor": 2
}
